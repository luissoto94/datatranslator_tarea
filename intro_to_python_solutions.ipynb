{
 "cells": [
  {
   "cell_type": "code",
   "execution_count": null,
   "metadata": {},
   "outputs": [],
   "source": [
    "#1. Write a script that takes a user inputted number and prints whether it is positive, negative or zero, with \"The inputted number is (positive/negative/zero)\" depending\n",
    "x = int(input(\"Please enter a number\"))\n",
    "if x > 0:\n",
    "    print(\"This is a positive Number\")\n",
    "elif x < 0:\n",
    "    print (\"This is a Negative Number\")"
   ]
  },
  {
   "cell_type": "code",
   "execution_count": null,
   "metadata": {},
   "outputs": [],
   "source": [
    "# 2. Write a script that takes two user inputted numbers and prints \"The first number is larger\" or \"The second number is larger\" depending on which is larger.\n",
    "# (**Hint**: you'll need to use `input()` twice.)\n",
    "x = int(input(\"Please enter a number\"))\n",
    "y = int(input(\"Please enter a number\"))\n",
    "if x > y:\n",
    "    print(\"X is a greater Number\")\n",
    "elif x < y:\n",
    "    print (\"Y is an smaller Number\")"
   ]
  },
  {
   "cell_type": "code",
   "execution_count": null,
   "metadata": {},
   "outputs": [],
   "source": [
    "3. # Write a script that prints the sum of the whole numbers between 1 and a user inputted number.\n",
    "\n",
    "x = int(input(\"Please enter a number\"))\n",
    "total = 0\n",
    "i= x\n",
    "while i in range(x+1 , 0, -1):\n",
    "    total +=  i\n",
    "    i -= 1\n",
    "print(total)\n"
   ]
  },
  {
   "cell_type": "code",
   "execution_count": null,
   "metadata": {},
   "outputs": [],
   "source": [
    "# 4. Write a script that computes the factorial of a user inputted number.\n",
    "x = int(input(\"Please enter a number\"))\n",
    "current = 1\n",
    "factorial = 1\n",
    "\n",
    "while current <= x:\n",
    "    factorial = current * factorial\n",
    "    current += 1\n",
    "print(factorial)"
   ]
  },
  {
   "cell_type": "code",
   "execution_count": null,
   "metadata": {},
   "outputs": [],
   "source": [
    "# 5.  Write a script that computes and prints all of the divisors of a user inputted number.\n",
    "x = int(input(\"Please enter a number\"))\n",
    "current = 1\n",
    "while current <= x:\n",
    "    if x % current == 0:\n",
    "        print(current)\n",
    "        current += 1"
   ]
  },
  {
   "cell_type": "code",
   "execution_count": 1,
   "metadata": {},
   "outputs": [
    {
     "name": "stdin",
     "output_type": "stream",
     "text": [
      "Please enter a number:  6\n",
      "Please enter a number:  7\n"
     ]
    },
    {
     "name": "stdout",
     "output_type": "stream",
     "text": [
      "1\n"
     ]
    }
   ],
   "source": [
    "# 6. Write a script that computes the greatest common divisor between two user inputted numbers.\n",
    "number1 = int(input('Please enter a number: '))\n",
    "number2 = int(input('Please enter a number: '))\n",
    "i = 1\n",
    "if number1 > number2:\n",
    "    \n",
    "    min_number = number2\n",
    "    \n",
    "else:\n",
    "    min_number = number1\n",
    "        \n",
    "for i in range(1, min_number+1):\n",
    "    if((number1 % i == 0) and (number2 % i == 0)): \n",
    "            gcd = i\n",
    "print(gcd)"
   ]
  },
  {
   "cell_type": "code",
   "execution_count": 2,
   "metadata": {},
   "outputs": [
    {
     "name": "stdin",
     "output_type": "stream",
     "text": [
      "Please enter a number:  5\n",
      "Please enter another number:  6\n"
     ]
    },
    {
     "name": "stdout",
     "output_type": "stream",
     "text": [
      "30\n"
     ]
    }
   ],
   "source": [
    "# 7. Write a script that computes the least common multiple between two user inputted numbers.\n",
    "\n",
    "num1 = int(input('Please enter a number: '))\n",
    "num2 = int(input('Please enter another number: '))\n",
    "\n",
    "if num1 > num2:\n",
    "       greater = num1\n",
    "else:\n",
    "       greater = num2\n",
    "\n",
    "while(True):\n",
    "    if((greater % num1 == 0) and (greater % num2 == 0)):\n",
    "           break\n",
    "    greater += 1\n",
    "\n",
    "print(greater)"
   ]
  },
  {
   "cell_type": "code",
   "execution_count": 3,
   "metadata": {},
   "outputs": [],
   "source": [
    "# 8. Write a script that determines whether or not a user inputted number is a prime number and prints `'The number you inputted is (not) a prime number.'` depending on what your script finds.\n",
    "number = int(input('Please enter a number: '))\n",
    "if number > 1:\n",
    "    for i in range(2, number):\n",
    "        if(number % i == 0):\n",
    "            print('The number you inputted is not a prime number.')   \n",
    "            break\n",
    "    else:\n",
    "            print('The number you inputted is a prime number.')\n",
    "else:\n",
    "    print('The number you inputted is not a prime number.')"
   ]
  },
  {
   "cell_type": "code",
   "execution_count": null,
   "metadata": {},
   "outputs": [],
   "source": [
    "# 9.  One can use loops to compute the elements of a mathematical series. Series can be defined recursively with the value of each element depending on the one that comes before it. Consider the series created by the rules:\n",
    "#   ![series](misc/series_pic.png)\n",
    "#    Write a script that prints the `nth` element in the series as determined by input from the user. e.g. If the user inputs the number `3`, your script should print the 3rd element in the series, `15`. You're welcome to check the math! "
   ]
  }
 ],
 "metadata": {
  "kernelspec": {
   "display_name": "Python 3",
   "language": "python",
   "name": "python3"
  },
  "language_info": {
   "codemirror_mode": {
    "name": "ipython",
    "version": 3
   },
   "file_extension": ".py",
   "mimetype": "text/x-python",
   "name": "python",
   "nbconvert_exporter": "python",
   "pygments_lexer": "ipython3",
   "version": "3.7.3"
  }
 },
 "nbformat": 4,
 "nbformat_minor": 4
}
