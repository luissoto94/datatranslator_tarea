{
 "cells": [
  {
   "cell_type": "code",
   "execution_count": 1,
   "metadata": {},
   "outputs": [
    {
     "name": "stdin",
     "output_type": "stream",
     "text": [
      "Enter a number 2\n",
      "Enter another number 3\n"
     ]
    },
    {
     "name": "stdout",
     "output_type": "stream",
     "text": [
      "6\n"
     ]
    }
   ],
   "source": [
    "#1. Multiplication can be thought of as repeated additions. \n",
    "# Write a script that takes as input two positive integers, `a` and `b`, and returns `a * b`. Do this without using the `*` operator. \n",
    "a = int(input(\"Enter a number\"))\n",
    "b = int(input(\"Enter another number\"))\n",
    "tot = 0\n",
    "for i in range(1, b+1):\n",
    "    tot = tot + a\n",
    "    i += 1\n",
    "print (tot)"
   ]
  },
  {
   "cell_type": "code",
   "execution_count": null,
   "metadata": {},
   "outputs": [],
   "source": [
    "#2. Integer division can be done with repeated substraction, similar to how multiplication can be done with addition. \n",
    "# Write a script that takes as input two positive integers, `a` and `b`, and returns `a / b`. Do this without using the `/` operator."
   ]
  },
  {
   "cell_type": "code",
   "execution_count": 28,
   "metadata": {},
   "outputs": [
    {
     "name": "stdin",
     "output_type": "stream",
     "text": [
      "Enter a number 20\n",
      "Enter another number 10\n"
     ]
    },
    {
     "name": "stdout",
     "output_type": "stream",
     "text": [
      "2\n"
     ]
    }
   ],
   "source": [
    "a = int(input(\"Enter a number\"))\n",
    "b = int(input(\"Enter another number\"))\n",
    "count = 0\n",
    "\n",
    "if a >= b:\n",
    "    div = a\n",
    "    while div >= b:\n",
    "            div = div - b\n",
    "            count += 1\n",
    "    print(count)\n",
    "else:\n",
    "    div = b\n",
    "    while div > a:\n",
    "        count += a % b\n",
    "        break\n",
    "    print(count)\n"
   ]
  },
  {
   "cell_type": "code",
   "execution_count": null,
   "metadata": {},
   "outputs": [],
   "source": [
    "#3. Exponentiation is repeated multiplication. \n",
    "#Write a script that takes as input two positive integers, `a` and `b`, and returns `a ** b`. Do this without using the `**` operator."
   ]
  },
  {
   "cell_type": "code",
   "execution_count": 7,
   "metadata": {},
   "outputs": [
    {
     "name": "stdin",
     "output_type": "stream",
     "text": [
      "Enter a number 2\n",
      "Enter another number 2\n"
     ]
    },
    {
     "name": "stdout",
     "output_type": "stream",
     "text": [
      "4\n"
     ]
    }
   ],
   "source": [
    "a = int(input(\"Enter a number\"))\n",
    "b = int(input(\"Enter another number\"))\n",
    "multi = 1\n",
    "for i in range (0,b):\n",
    "    multi = multi * a\n",
    "    i += 1\n",
    "print(multi)"
   ]
  },
  {
   "cell_type": "code",
   "execution_count": 10,
   "metadata": {},
   "outputs": [
    {
     "name": "stdin",
     "output_type": "stream",
     "text": [
      "Enter a number 3\n",
      "Enter another number 2\n"
     ]
    },
    {
     "name": "stdout",
     "output_type": "stream",
     "text": [
      "b does not divide a\n"
     ]
    }
   ],
   "source": [
    "# 4. For two integers, `a` and `b`, `b` divides `a` if `a / b` has no remainder. \n",
    "# Write a script that takes as input two positive integers, `a` and `b`, and says whether `b` divides `a`\n",
    "a = int(input(\"Enter a number\"))\n",
    "b = int(input(\"Enter another number\"))\n",
    "if a % b == 0:\n",
    "    print (\"b divides a\")\n",
    "else:\n",
    "    print (\"b does not divide a\")"
   ]
  },
  {
   "cell_type": "code",
   "execution_count": 14,
   "metadata": {},
   "outputs": [
    {
     "name": "stdin",
     "output_type": "stream",
     "text": [
      "Please enter your guess 50\n"
     ]
    },
    {
     "name": "stdout",
     "output_type": "stream",
     "text": [
      "Your guess is to low\n"
     ]
    },
    {
     "name": "stdin",
     "output_type": "stream",
     "text": [
      "Please enter another guess 75\n"
     ]
    },
    {
     "name": "stdout",
     "output_type": "stream",
     "text": [
      "Your guess is to low\n"
     ]
    },
    {
     "name": "stdin",
     "output_type": "stream",
     "text": [
      "Please enter another guess 90\n"
     ]
    },
    {
     "name": "stdout",
     "output_type": "stream",
     "text": [
      "Your guess is to high\n"
     ]
    },
    {
     "name": "stdin",
     "output_type": "stream",
     "text": [
      "Please enter another guess 83\n"
     ]
    },
    {
     "name": "stdout",
     "output_type": "stream",
     "text": [
      "You are correct\n"
     ]
    }
   ],
   "source": [
    "# 5. `while` loops and conditionals give you a lot of power. \n",
    "# Try and create a game where a user is repeteadly asked to guess a number. If they get it wrong, they are asked to guess again, and if they are correct, they are told and the game ends. \n",
    "# For extra credit, have the game tell the user whether their guess was high or low.\n",
    "import random\n",
    "x = int(input(\"Please enter your guess\"))\n",
    "y = random.randint(1,100)\n",
    "\n",
    "while x != y:\n",
    "    if x > y:\n",
    "        print(\"Your guess is to high\")\n",
    "    elif x < y:\n",
    "        print(\"Your guess is to low\")\n",
    "    x = int(input(\"Please enter another guess\"))\n",
    "print(\"You are correct\")\n"
   ]
  },
  {
   "cell_type": "code",
   "execution_count": null,
   "metadata": {},
   "outputs": [],
   "source": []
  },
  {
   "cell_type": "code",
   "execution_count": null,
   "metadata": {},
   "outputs": [],
   "source": []
  },
  {
   "cell_type": "code",
   "execution_count": null,
   "metadata": {},
   "outputs": [],
   "source": []
  },
  {
   "cell_type": "code",
   "execution_count": null,
   "metadata": {},
   "outputs": [],
   "source": []
  }
 ],
 "metadata": {
  "kernelspec": {
   "display_name": "Python 3",
   "language": "python",
   "name": "python3"
  },
  "language_info": {
   "codemirror_mode": {
    "name": "ipython",
    "version": 3
   },
   "file_extension": ".py",
   "mimetype": "text/x-python",
   "name": "python",
   "nbconvert_exporter": "python",
   "pygments_lexer": "ipython3",
   "version": "3.7.3"
  }
 },
 "nbformat": 4,
 "nbformat_minor": 4
}
